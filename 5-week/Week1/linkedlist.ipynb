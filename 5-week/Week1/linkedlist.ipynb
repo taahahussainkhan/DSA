{
 "cells": [
  {
   "cell_type": "code",
   "execution_count": 2,
   "metadata": {},
   "outputs": [],
   "source": [
    "#Implementing a Single Node"
   ]
  },
  {
   "cell_type": "code",
   "execution_count": 3,
   "metadata": {},
   "outputs": [],
   "source": [
    "class Node:\n",
    "\n",
    "    def __init__(self,value):\n",
    "        self.data = value\n",
    "        self.next = None #Currently not pointing to anything"
   ]
  },
  {
   "cell_type": "code",
   "execution_count": 5,
   "metadata": {},
   "outputs": [],
   "source": [
    "a = Node(13)\n",
    "b = Node(340)\n",
    "c = Node(23)\n",
    "# We have 3 object/nodes"
   ]
  },
  {
   "cell_type": "code",
   "execution_count": 6,
   "metadata": {},
   "outputs": [
    {
     "name": "stdout",
     "output_type": "stream",
     "text": [
      "<__main__.Node object at 0x000001C99BFA7F50>\n"
     ]
    }
   ],
   "source": [
    "print(a) # prints the memory location of the object a"
   ]
  },
  {
   "cell_type": "code",
   "execution_count": 7,
   "metadata": {},
   "outputs": [
    {
     "name": "stdout",
     "output_type": "stream",
     "text": [
      "13\n"
     ]
    }
   ],
   "source": [
    "print(a.data) # prints the value of the object a"
   ]
  },
  {
   "cell_type": "code",
   "execution_count": 8,
   "metadata": {},
   "outputs": [],
   "source": [
    "a.next = b # a is pointing to b\n",
    "b.next = c # b is pointing to c"
   ]
  },
  {
   "cell_type": "code",
   "execution_count": 10,
   "metadata": {},
   "outputs": [
    {
     "name": "stdout",
     "output_type": "stream",
     "text": [
      "<__main__.Node object at 0x000001C99C0DF0D0>\n",
      "<__main__.Node object at 0x000001C99C0DF0D0>\n"
     ]
    }
   ],
   "source": [
    "print(b) # prints the memory location of the object b\n",
    "print(a.next) # prints the memory location of the object b"
   ]
  },
  {
   "cell_type": "code",
   "execution_count": 12,
   "metadata": {},
   "outputs": [
    {
     "name": "stdout",
     "output_type": "stream",
     "text": [
      "23\n"
     ]
    }
   ],
   "source": [
    "print(a.next.next.data) # a -> b -> c , so this will print the value of c"
   ]
  },
  {
   "cell_type": "code",
   "execution_count": 13,
   "metadata": {},
   "outputs": [],
   "source": [
    "# Insertion at Head"
   ]
  },
  {
   "cell_type": "code",
   "execution_count": 31,
   "metadata": {},
   "outputs": [],
   "source": [
    "class LinkedList:\n",
    "\n",
    "    def __init__(self):\n",
    "        self.head = None #Initially the linked list is empty\n",
    "    \n",
    "    def insert_at_head(self,data):\n",
    "        # Create a new node\n",
    "        newNode = Node(data)\n",
    "\n",
    "        # Point the new node to current head\n",
    "\n",
    "        newNode.next = self.head\n",
    "\n",
    "        # Update the head to the new node\n",
    "\n",
    "        self.head = newNode\n",
    "    def traverse(self):\n",
    "        temp = self.head\n",
    "        while temp is not None:\n",
    "            print(temp.data, end=\" - > \")\n",
    "            temp = temp.next # Move to the next node (incrementing just like i++ in arrays)\n",
    "        if temp is None:\n",
    "            print(\"None\")\n"
   ]
  },
  {
   "cell_type": "code",
   "execution_count": 32,
   "metadata": {},
   "outputs": [],
   "source": [
    "LL = LinkedList()\n",
    "LL.insert_at_head(45)\n",
    "LL.insert_at_head(63)\n",
    "LL.insert_at_head(72)"
   ]
  },
  {
   "cell_type": "code",
   "execution_count": 33,
   "metadata": {},
   "outputs": [
    {
     "name": "stdout",
     "output_type": "stream",
     "text": [
      "72 - > 63 - > 45 - > None\n"
     ]
    }
   ],
   "source": [
    "# Traversal\n",
    "LL.traverse()"
   ]
  },
  {
   "cell_type": "code",
   "execution_count": null,
   "metadata": {},
   "outputs": [],
   "source": []
  }
 ],
 "metadata": {
  "kernelspec": {
   "display_name": "Python 3",
   "language": "python",
   "name": "python3"
  },
  "language_info": {
   "codemirror_mode": {
    "name": "ipython",
    "version": 3
   },
   "file_extension": ".py",
   "mimetype": "text/x-python",
   "name": "python",
   "nbconvert_exporter": "python",
   "pygments_lexer": "ipython3",
   "version": "3.11.2"
  }
 },
 "nbformat": 4,
 "nbformat_minor": 2
}
