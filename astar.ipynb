{
 "cells": [
  {
   "cell_type": "code",
   "execution_count": 9,
   "metadata": {},
   "outputs": [
    {
     "name": "stdout",
     "output_type": "stream",
     "text": [
      "Path found: ['A', 'E', 'D', 'G']\n"
     ]
    },
    {
     "data": {
      "text/plain": [
       "['A', 'E', 'D', 'G']"
      ]
     },
     "execution_count": 9,
     "metadata": {},
     "output_type": "execute_result"
    }
   ],
   "source": [
    "Graph_nodes = {\n",
    "    'A': [('B', 2), ('E', 3)],\n",
    "    'B': [('C', 1), ('G', 9)],\n",
    "    'C': None,\n",
    "    'E': [('D', 6)],\n",
    "    'D': [('G', 1)]\n",
    "}\n",
    "def astaralgo(start_node, stop_node):\n",
    "    open_set = set([start_node])  # Use a list to initialize the set\n",
    "    closed_set = set()\n",
    "\n",
    "    g = {}\n",
    "    parents = {}\n",
    "\n",
    "    g[start_node] = 0\n",
    "    parents[start_node] = start_node\n",
    "\n",
    "    while len(open_set) > 0:\n",
    "        n = None\n",
    "\n",
    "        for v in open_set:\n",
    "            if n is None or g[v] + heuristic(v) < g[n] + heuristic(n):\n",
    "                n = v\n",
    "\n",
    "        if n is None:\n",
    "            print(\"Path does not exist!\")\n",
    "            return None\n",
    "\n",
    "        if n == stop_node:\n",
    "            path = []\n",
    "\n",
    "            while parents[n] != n:\n",
    "                path.append(n)\n",
    "                n = parents[n]\n",
    "\n",
    "            path.append(start_node)\n",
    "            path.reverse()\n",
    "            print(\"Path found: {}\".format(path))\n",
    "            return path\n",
    "\n",
    "        open_set.remove(n)\n",
    "        closed_set.add(n)\n",
    "\n",
    "        neighbors = get_neighbors(n)\n",
    "        if neighbors is not None:\n",
    "            for (m, weight) in neighbors:\n",
    "                if m not in open_set and m not in closed_set:\n",
    "                    open_set.add(m)\n",
    "                    parents[m] = n\n",
    "                    g[m] = g[n] + weight\n",
    "                else:\n",
    "                    if g[m] > g[n] + weight:\n",
    "                        g[m] = g[n] + weight\n",
    "                        parents[m] = n\n",
    "                        if m in closed_set:\n",
    "                            closed_set.remove(m)\n",
    "                            open_set.add(m)\n",
    "\n",
    "    print(\"Path does not exist!\")\n",
    "    return None\n",
    "\n",
    "def get_neighbors(v):\n",
    "    return Graph_nodes[v] if v in Graph_nodes else None\n",
    "\n",
    "def heuristic(n):\n",
    "    H_dist = {\n",
    "        'A': 11,\n",
    "        'B': 6,\n",
    "        'C': 99,\n",
    "        'D': 1,\n",
    "        'E': 7,\n",
    "        'G': 0,\n",
    "    }\n",
    "    return H_dist[n]\n",
    "\n",
    "# Example usage:\n",
    "astaralgo('A', 'G')\n"
   ]
  },
  {
   "cell_type": "code",
   "execution_count": 10,
   "metadata": {},
   "outputs": [
    {
     "name": "stdout",
     "output_type": "stream",
     "text": [
      "Path found: ['A', 'B', 'G']\n"
     ]
    },
    {
     "data": {
      "text/plain": [
       "['A', 'B', 'G']"
      ]
     },
     "execution_count": 10,
     "metadata": {},
     "output_type": "execute_result"
    }
   ],
   "source": [
    "Graph_nodes = {\n",
    "    'A': [('B', 2), ('E', 3)],\n",
    "    'B': [('C', 1), ('G', 9)],\n",
    "    'C': None,\n",
    "    'E': [('D', 6)],\n",
    "    'D': [('G', 1)]\n",
    "}\n",
    "\n",
    "def ida_star(start_node, stop_node):\n",
    "    def search(path, g, bound):\n",
    "        node = path[-1]\n",
    "        f = g + heuristic(node)\n",
    "        if f > bound:\n",
    "            return f, None\n",
    "        if node == stop_node:\n",
    "            return f, path\n",
    "        min_bound = float('inf')\n",
    "        neighbors = get_neighbors(node)\n",
    "        if neighbors:\n",
    "            for (neighbor, weight) in neighbors:\n",
    "                if neighbor not in path:\n",
    "                    path.append(neighbor)\n",
    "                    t, result = search(path, g + weight, bound)\n",
    "                    if result:\n",
    "                        return t, result\n",
    "                    if t < min_bound:\n",
    "                        min_bound = t\n",
    "                    path.pop()\n",
    "        return min_bound, None\n",
    "\n",
    "    bound = heuristic(start_node)\n",
    "    path = [start_node]\n",
    "    while True:\n",
    "        t, result = search(path, 0, bound)\n",
    "        if result:\n",
    "            print(\"Path found: {}\".format(result))\n",
    "            return result\n",
    "        if t == float('inf'):\n",
    "            print(\"Path does not exist!\")\n",
    "            return None\n",
    "        bound = t\n",
    "\n",
    "def get_neighbors(v):\n",
    "    return Graph_nodes[v] if v in Graph_nodes else None\n",
    "\n",
    "def heuristic(n):\n",
    "    H_dist = {\n",
    "        'A': 11,\n",
    "        'B': 6,\n",
    "        'C': 99,\n",
    "        'D': 1,\n",
    "        'E': 7,\n",
    "        'G': 0,\n",
    "    }\n",
    "    return H_dist[n]\n",
    "\n",
    "# Example usage:\n",
    "ida_star('A', 'G')\n"
   ]
  },
  {
   "cell_type": "markdown",
   "metadata": {},
   "source": [
    "## Simple Hill Climb"
   ]
  },
  {
   "cell_type": "code",
   "execution_count": 12,
   "metadata": {},
   "outputs": [
    {
     "name": "stdout",
     "output_type": "stream",
     "text": [
      "Path found: ['A', 'B', 'G']\n"
     ]
    },
    {
     "data": {
      "text/plain": [
       "['A', 'B', 'G']"
      ]
     },
     "execution_count": 12,
     "metadata": {},
     "output_type": "execute_result"
    }
   ],
   "source": [
    "Graph_nodes = {\n",
    "    'A': [('B', 2), ('E', 3)],\n",
    "    'B': [('C', 1), ('G', 9)],\n",
    "    'C': None,\n",
    "    'E': [('D', 6)],\n",
    "    'D': [('G', 1)]\n",
    "}\n",
    "\n",
    "def hill_climb(start_node, stop_node):\n",
    "    current_node = start_node\n",
    "    path = [current_node]\n",
    "    \n",
    "    while current_node != stop_node:\n",
    "        neighbors = get_neighbors(current_node)\n",
    "        if not neighbors:\n",
    "            print(\"Path does not exist!\")\n",
    "            return None\n",
    "        \n",
    "        next_node = min(neighbors, key=lambda x: heuristic(x[0]))[0]\n",
    "        \n",
    "        if heuristic(next_node) >= heuristic(current_node):\n",
    "            print(\"No better neighbors found. Path does not exist!\")\n",
    "            return None\n",
    "        \n",
    "        path.append(next_node)\n",
    "        current_node = next_node\n",
    "\n",
    "    print(\"Path found: {}\".format(path))\n",
    "    return path\n",
    "\n",
    "def get_neighbors(v):\n",
    "    return Graph_nodes[v] if v in Graph_nodes else []\n",
    "\n",
    "def heuristic(n):\n",
    "    H_dist = {\n",
    "        'A': 11,\n",
    "        'B': 6,\n",
    "        'C': 99,\n",
    "        'D': 1,\n",
    "        'E': 7,\n",
    "        'G': 0,\n",
    "    }\n",
    "    return H_dist[n]\n",
    "\n",
    "hill_climb('A', 'G')\n"
   ]
  },
  {
   "cell_type": "markdown",
   "metadata": {},
   "source": [
    "## Ascent"
   ]
  },
  {
   "cell_type": "code",
   "execution_count": 13,
   "metadata": {},
   "outputs": [
    {
     "name": "stdout",
     "output_type": "stream",
     "text": [
      "Path found: ['A', 'B', 'G']\n"
     ]
    },
    {
     "data": {
      "text/plain": [
       "['A', 'B', 'G']"
      ]
     },
     "execution_count": 13,
     "metadata": {},
     "output_type": "execute_result"
    }
   ],
   "source": [
    "Graph_nodes = {\n",
    "    'A': [('B', 2), ('E', 3)],\n",
    "    'B': [('C', 1), ('G', 9)],\n",
    "    'C': None,\n",
    "    'E': [('D', 6)],\n",
    "    'D': [('G', 1)]\n",
    "}\n",
    "\n",
    "def hill_climb_ascent(start_node, stop_node):\n",
    "    current_node = start_node\n",
    "    path = [current_node]\n",
    "    \n",
    "    while current_node != stop_node:\n",
    "        neighbors = get_neighbors(current_node)\n",
    "        if not neighbors:\n",
    "            print(\"Path does not exist!\")\n",
    "            return None\n",
    "        \n",
    "        next_node = min(neighbors, key=lambda x: heuristic(x[0]))[0]\n",
    "        \n",
    "        if heuristic(next_node) >= heuristic(current_node):\n",
    "            print(\"No better neighbors found. Path does not exist!\")\n",
    "            return None\n",
    "        \n",
    "        path.append(next_node)\n",
    "        current_node = next_node\n",
    "\n",
    "    print(\"Path found: {}\".format(path))\n",
    "    return path\n",
    "\n",
    "def get_neighbors(v):\n",
    "    return Graph_nodes[v] if v in Graph_nodes else []\n",
    "\n",
    "def heuristic(n):\n",
    "    H_dist = {\n",
    "        'A': 11,\n",
    "        'B': 6,\n",
    "        'C': 99,\n",
    "        'D': 1,\n",
    "        'E': 7,\n",
    "        'G': 0,\n",
    "    }\n",
    "    return H_dist[n]\n",
    "\n",
    "# Example usage:\n",
    "hill_climb_ascent('A', 'G')\n"
   ]
  },
  {
   "cell_type": "code",
   "execution_count": 15,
   "metadata": {},
   "outputs": [
    {
     "ename": "ZeroDivisionError",
     "evalue": "division by zero",
     "output_type": "error",
     "traceback": [
      "\u001b[1;31m---------------------------------------------------------------------------\u001b[0m",
      "\u001b[1;31mZeroDivisionError\u001b[0m                         Traceback (most recent call last)",
      "Cell \u001b[1;32mIn[15], line 53\u001b[0m\n\u001b[0;32m     42\u001b[0m     H_dist \u001b[38;5;241m=\u001b[39m {\n\u001b[0;32m     43\u001b[0m         \u001b[38;5;124m'\u001b[39m\u001b[38;5;124mA\u001b[39m\u001b[38;5;124m'\u001b[39m: \u001b[38;5;241m11\u001b[39m,\n\u001b[0;32m     44\u001b[0m         \u001b[38;5;124m'\u001b[39m\u001b[38;5;124mB\u001b[39m\u001b[38;5;124m'\u001b[39m: \u001b[38;5;241m6\u001b[39m,\n\u001b[1;32m   (...)\u001b[0m\n\u001b[0;32m     48\u001b[0m         \u001b[38;5;124m'\u001b[39m\u001b[38;5;124mG\u001b[39m\u001b[38;5;124m'\u001b[39m: \u001b[38;5;241m0\u001b[39m,\n\u001b[0;32m     49\u001b[0m     }\n\u001b[0;32m     50\u001b[0m     \u001b[38;5;28;01mreturn\u001b[39;00m H_dist[n]\n\u001b[1;32m---> 53\u001b[0m \u001b[43mstochastic_hill_climb\u001b[49m\u001b[43m(\u001b[49m\u001b[38;5;124;43m'\u001b[39;49m\u001b[38;5;124;43mA\u001b[39;49m\u001b[38;5;124;43m'\u001b[39;49m\u001b[43m,\u001b[49m\u001b[43m \u001b[49m\u001b[38;5;124;43m'\u001b[39;49m\u001b[38;5;124;43mG\u001b[39;49m\u001b[38;5;124;43m'\u001b[39;49m\u001b[43m)\u001b[49m\n",
      "Cell \u001b[1;32mIn[15], line 23\u001b[0m, in \u001b[0;36mstochastic_hill_climb\u001b[1;34m(start_node, stop_node)\u001b[0m\n\u001b[0;32m     21\u001b[0m \u001b[38;5;66;03m# Calculate the probabilities based on the heuristic values\u001b[39;00m\n\u001b[0;32m     22\u001b[0m total_heuristic \u001b[38;5;241m=\u001b[39m \u001b[38;5;28msum\u001b[39m(heuristic(neighbor[\u001b[38;5;241m0\u001b[39m]) \u001b[38;5;28;01mfor\u001b[39;00m neighbor \u001b[38;5;129;01min\u001b[39;00m neighbors)\n\u001b[1;32m---> 23\u001b[0m probabilities \u001b[38;5;241m=\u001b[39m \u001b[43m[\u001b[49m\u001b[43mheuristic\u001b[49m\u001b[43m(\u001b[49m\u001b[43mneighbor\u001b[49m\u001b[43m[\u001b[49m\u001b[38;5;241;43m0\u001b[39;49m\u001b[43m]\u001b[49m\u001b[43m)\u001b[49m\u001b[43m \u001b[49m\u001b[38;5;241;43m/\u001b[39;49m\u001b[43m \u001b[49m\u001b[43mtotal_heuristic\u001b[49m\u001b[43m \u001b[49m\u001b[38;5;28;43;01mfor\u001b[39;49;00m\u001b[43m \u001b[49m\u001b[43mneighbor\u001b[49m\u001b[43m \u001b[49m\u001b[38;5;129;43;01min\u001b[39;49;00m\u001b[43m \u001b[49m\u001b[43mneighbors\u001b[49m\u001b[43m]\u001b[49m\n\u001b[0;32m     25\u001b[0m \u001b[38;5;66;03m# Select the next node based on the calculated probabilities\u001b[39;00m\n\u001b[0;32m     26\u001b[0m next_node \u001b[38;5;241m=\u001b[39m random\u001b[38;5;241m.\u001b[39mchoices(neighbors, weights\u001b[38;5;241m=\u001b[39mprobabilities, k\u001b[38;5;241m=\u001b[39m\u001b[38;5;241m1\u001b[39m)[\u001b[38;5;241m0\u001b[39m][\u001b[38;5;241m0\u001b[39m]\n",
      "Cell \u001b[1;32mIn[15], line 23\u001b[0m, in \u001b[0;36m<listcomp>\u001b[1;34m(.0)\u001b[0m\n\u001b[0;32m     21\u001b[0m \u001b[38;5;66;03m# Calculate the probabilities based on the heuristic values\u001b[39;00m\n\u001b[0;32m     22\u001b[0m total_heuristic \u001b[38;5;241m=\u001b[39m \u001b[38;5;28msum\u001b[39m(heuristic(neighbor[\u001b[38;5;241m0\u001b[39m]) \u001b[38;5;28;01mfor\u001b[39;00m neighbor \u001b[38;5;129;01min\u001b[39;00m neighbors)\n\u001b[1;32m---> 23\u001b[0m probabilities \u001b[38;5;241m=\u001b[39m [\u001b[43mheuristic\u001b[49m\u001b[43m(\u001b[49m\u001b[43mneighbor\u001b[49m\u001b[43m[\u001b[49m\u001b[38;5;241;43m0\u001b[39;49m\u001b[43m]\u001b[49m\u001b[43m)\u001b[49m\u001b[43m \u001b[49m\u001b[38;5;241;43m/\u001b[39;49m\u001b[43m \u001b[49m\u001b[43mtotal_heuristic\u001b[49m \u001b[38;5;28;01mfor\u001b[39;00m neighbor \u001b[38;5;129;01min\u001b[39;00m neighbors]\n\u001b[0;32m     25\u001b[0m \u001b[38;5;66;03m# Select the next node based on the calculated probabilities\u001b[39;00m\n\u001b[0;32m     26\u001b[0m next_node \u001b[38;5;241m=\u001b[39m random\u001b[38;5;241m.\u001b[39mchoices(neighbors, weights\u001b[38;5;241m=\u001b[39mprobabilities, k\u001b[38;5;241m=\u001b[39m\u001b[38;5;241m1\u001b[39m)[\u001b[38;5;241m0\u001b[39m][\u001b[38;5;241m0\u001b[39m]\n",
      "\u001b[1;31mZeroDivisionError\u001b[0m: division by zero"
     ]
    }
   ],
   "source": [
    "import random\n",
    "\n",
    "Graph_nodes = {\n",
    "    'A': [('B', 2), ('E', 3)],\n",
    "    'B': [('C', 1), ('G', 9)],\n",
    "    'C': None,\n",
    "    'E': [('D', 6)],\n",
    "    'D': [('G', 1)]\n",
    "}\n",
    "\n",
    "def stochastic_hill_climb(start_node, stop_node):\n",
    "    current_node = start_node\n",
    "    path = [current_node]\n",
    "    \n",
    "    while current_node != stop_node:\n",
    "        neighbors = get_neighbors(current_node)\n",
    "        if not neighbors:\n",
    "            print(\"Path does not exist!\")\n",
    "            return None\n",
    "        \n",
    "        # Calculate the probabilities based on the heuristic values\n",
    "        total_heuristic = sum(heuristic(neighbor[0]) for neighbor in neighbors)\n",
    "        probabilities = [heuristic(neighbor[0]) / total_heuristic for neighbor in neighbors]\n",
    "        \n",
    "        # Select the next node based on the calculated probabilities\n",
    "        next_node = random.choices(neighbors, weights=probabilities, k=1)[0][0]\n",
    "        \n",
    "        if heuristic(next_node) >= heuristic(current_node):\n",
    "            print(\"No better neighbors found. Path does not exist!\")\n",
    "            return None\n",
    "        \n",
    "        path.append(next_node)\n",
    "        current_node = next_node\n",
    "\n",
    "    print(\"Path found: {}\".format(path))\n",
    "    return path\n",
    "\n",
    "def get_neighbors(v):\n",
    "    return Graph_nodes[v] if v in Graph_nodes else []\n",
    "\n",
    "def heuristic(n):\n",
    "    H_dist = {\n",
    "        'A': 11,\n",
    "        'B': 6,\n",
    "        'C': 99,\n",
    "        'D': 1,\n",
    "        'E': 7,\n",
    "        'G': 0,\n",
    "    }\n",
    "    return H_dist[n]\n",
    "\n",
    "\n",
    "stochastic_hill_climb('A', 'G')\n"
   ]
  },
  {
   "cell_type": "code",
   "execution_count": 16,
   "metadata": {},
   "outputs": [
    {
     "name": "stdout",
     "output_type": "stream",
     "text": [
      "ABCDEF"
     ]
    }
   ],
   "source": [
    "graph = {\n",
    "'A': ['B', 'C'],\n",
    "'B': ['D', 'E'],\n",
    "'C': ['F'],\n",
    "'D': [],\n",
    "'E': ['F'],\n",
    "'F': []\n",
    "}\n",
    "visited = [] # List to keep track of visited \n",
    "queue = []  \n",
    "def bfs(visited, graph, node): \n",
    "    visited.append(node) \n",
    "    queue.append(node) \n",
    "    while queue: \n",
    "        s = queue.pop(0) \n",
    "        print (s, end = \"\")\n",
    "        for neighbour in graph[s]:\n",
    "            if neighbour not in visited: \n",
    "                visited.append(neighbour) \n",
    "                queue.append(neighbour) \n",
    "           \n",
    "\n",
    "bfs(visited, graph, 'A')\n"
   ]
  },
  {
   "cell_type": "code",
   "execution_count": 18,
   "metadata": {},
   "outputs": [
    {
     "name": "stdout",
     "output_type": "stream",
     "text": [
      "A\n",
      "B\n",
      "D\n",
      "E\n",
      "F\n",
      "C\n"
     ]
    }
   ],
   "source": [
    "graph = {\n",
    "'A': ['B', 'C'],\n",
    "'B': ['D', 'E'],\n",
    "'C': ['F'],\n",
    "'D': [],\n",
    "'E': ['F'],\n",
    "'F': []\n",
    "}\n",
    "visited = set() # Set to keep track of visited node\n",
    "def dfs(visited, graph, node): \n",
    "    if node not in visited:\n",
    "        print (node)\n",
    "        visited.add(node)\n",
    "        for neighbour in graph[node]: \n",
    "            dfs(visited, graph, neighbour)\n",
    "        \n",
    "dfs(visited, graph, 'A')"
   ]
  },
  {
   "cell_type": "code",
   "execution_count": null,
   "metadata": {},
   "outputs": [],
   "source": []
  }
 ],
 "metadata": {
  "kernelspec": {
   "display_name": "Python 3",
   "language": "python",
   "name": "python3"
  },
  "language_info": {
   "codemirror_mode": {
    "name": "ipython",
    "version": 3
   },
   "file_extension": ".py",
   "mimetype": "text/x-python",
   "name": "python",
   "nbconvert_exporter": "python",
   "pygments_lexer": "ipython3",
   "version": "3.11.2"
  }
 },
 "nbformat": 4,
 "nbformat_minor": 2
}
